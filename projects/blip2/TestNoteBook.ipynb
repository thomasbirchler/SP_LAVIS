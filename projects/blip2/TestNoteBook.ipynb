{
 "cells": [
  {
   "cell_type": "code",
   "execution_count": null,
   "metadata": {
    "collapsed": true
   },
   "outputs": [],
   "source": [
    "# Import necessary libraries\n",
    "import numpy as np\n",
    "\n",
    "# Create an array of numbers from 0 to 9\n",
    "x = np.arange(10)\n",
    "\n",
    "# Create a corresponding array of squares\n",
    "y = x ** 2\n",
    "\n",
    "# Save squared number into a file\n",
    "with open('squared_numbers.txt', 'w') as file:\n",
    "    for i in range(len(x)):\n",
    "        file.write(f\"{x[i]}^2 = {y[i]}\\n\")\n"
   ]
  }
 ],
 "metadata": {
  "kernelspec": {
   "display_name": "Python 3",
   "language": "python",
   "name": "python3"
  },
  "language_info": {
   "codemirror_mode": {
    "name": "ipython",
    "version": 2
   },
   "file_extension": ".py",
   "mimetype": "text/x-python",
   "name": "python",
   "nbconvert_exporter": "python",
   "pygments_lexer": "ipython2",
   "version": "2.7.6"
  }
 },
 "nbformat": 4,
 "nbformat_minor": 0
}
